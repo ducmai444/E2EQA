{
 "cells": [
  {
   "cell_type": "code",
   "execution_count": 3,
   "metadata": {
    "execution": {
     "iopub.execute_input": "2025-02-10T03:06:08.671577Z",
     "iopub.status.busy": "2025-02-10T03:06:08.671238Z",
     "iopub.status.idle": "2025-02-10T03:06:29.194879Z",
     "shell.execute_reply": "2025-02-10T03:06:29.193098Z",
     "shell.execute_reply.started": "2025-02-10T03:06:08.671547Z"
    },
    "trusted": true
   },
   "outputs": [
    {
     "name": "stdout",
     "output_type": "stream",
     "text": [
      "Requirement already satisfied: pandarallel==1.6.5 in /usr/local/lib/python3.10/site-packages (1.6.5)\n",
      "Requirement already satisfied: pandas>=1 in /usr/local/lib/python3.10/site-packages (from pandarallel==1.6.5) (2.2.3)\n",
      "Requirement already satisfied: dill>=0.3.1 in /usr/local/lib/python3.10/site-packages (from pandarallel==1.6.5) (0.3.9)\n",
      "Requirement already satisfied: psutil in /usr/local/lib/python3.10/site-packages (from pandarallel==1.6.5) (6.1.1)\n",
      "Requirement already satisfied: numpy>=1.22.4 in /usr/local/lib/python3.10/site-packages (from pandas>=1->pandarallel==1.6.5) (2.0.2)\n",
      "Requirement already satisfied: tzdata>=2022.7 in /usr/local/lib/python3.10/site-packages (from pandas>=1->pandarallel==1.6.5) (2025.1)\n",
      "Requirement already satisfied: python-dateutil>=2.8.2 in /usr/local/lib/python3.10/site-packages (from pandas>=1->pandarallel==1.6.5) (2.9.0.post0)\n",
      "Requirement already satisfied: pytz>=2020.1 in /usr/local/lib/python3.10/site-packages (from pandas>=1->pandarallel==1.6.5) (2025.1)\n",
      "Requirement already satisfied: six>=1.5 in /usr/local/lib/python3.10/site-packages (from python-dateutil>=2.8.2->pandas>=1->pandarallel==1.6.5) (1.17.0)\n",
      "\u001b[33mWARNING: Running pip as the 'root' user can result in broken permissions and conflicting behaviour with the system package manager. It is recommended to use a virtual environment instead: https://pip.pypa.io/warnings/venv\u001b[0m\u001b[33m\n",
      "\u001b[0m\n",
      "\u001b[1m[\u001b[0m\u001b[34;49mnotice\u001b[0m\u001b[1;39;49m]\u001b[0m\u001b[39;49m A new release of pip is available: \u001b[0m\u001b[31;49m23.0.1\u001b[0m\u001b[39;49m -> \u001b[0m\u001b[32;49m25.0.1\u001b[0m\n",
      "\u001b[1m[\u001b[0m\u001b[34;49mnotice\u001b[0m\u001b[1;39;49m]\u001b[0m\u001b[39;49m To update, run: \u001b[0m\u001b[32;49mpip install --upgrade pip\u001b[0m\n",
      "Collecting gensim\n",
      "  Downloading gensim-4.3.3-cp310-cp310-manylinux_2_17_x86_64.manylinux2014_x86_64.whl (26.5 MB)\n",
      "\u001b[2K     \u001b[90m━━━━━━━━━━━━━━━━━━━━━━━━━━━━━━━━━━━━━━━━\u001b[0m \u001b[32m26.5/26.5 MB\u001b[0m \u001b[31m41.5 MB/s\u001b[0m eta \u001b[36m0:00:00\u001b[0m00:01\u001b[0m00:01\u001b[0m\n",
      "\u001b[?25hCollecting smart-open>=1.8.1\n",
      "  Downloading smart_open-7.1.0-py3-none-any.whl (61 kB)\n",
      "\u001b[2K     \u001b[90m━━━━━━━━━━━━━━━━━━━━━━━━━━━━━━━━━━━━━━━━\u001b[0m \u001b[32m61.7/61.7 kB\u001b[0m \u001b[31m7.0 MB/s\u001b[0m eta \u001b[36m0:00:00\u001b[0m\n",
      "\u001b[?25hCollecting scipy<1.14.0,>=1.7.0\n",
      "  Downloading scipy-1.13.1-cp310-cp310-manylinux_2_17_x86_64.manylinux2014_x86_64.whl (38.6 MB)\n",
      "\u001b[2K     \u001b[90m━━━━━━━━━━━━━━━━━━━━━━━━━━━━━━━━━━━━━━━━\u001b[0m \u001b[32m38.6/38.6 MB\u001b[0m \u001b[31m22.5 MB/s\u001b[0m eta \u001b[36m0:00:00\u001b[0m00:01\u001b[0m00:01\u001b[0m\n",
      "\u001b[?25hCollecting numpy<2.0,>=1.18.5\n",
      "  Downloading numpy-1.26.4-cp310-cp310-manylinux_2_17_x86_64.manylinux2014_x86_64.whl (18.2 MB)\n",
      "\u001b[2K     \u001b[90m━━━━━━━━━━━━━━━━━━━━━━━━━━━━━━━━━━━━━━━━\u001b[0m \u001b[32m18.2/18.2 MB\u001b[0m \u001b[31m19.4 MB/s\u001b[0m eta \u001b[36m0:00:00\u001b[0m00:01\u001b[0m00:01\u001b[0m\n",
      "\u001b[?25hRequirement already satisfied: wrapt in /usr/local/lib/python3.10/site-packages (from smart-open>=1.8.1->gensim) (1.17.2)\n",
      "Installing collected packages: smart-open, numpy, scipy, gensim\n",
      "  Attempting uninstall: numpy\n",
      "    Found existing installation: numpy 2.0.2\n",
      "    Uninstalling numpy-2.0.2:\n",
      "      Successfully uninstalled numpy-2.0.2\n",
      "  Attempting uninstall: scipy\n",
      "    Found existing installation: scipy 1.15.1\n",
      "    Uninstalling scipy-1.15.1:\n",
      "      Successfully uninstalled scipy-1.15.1\n",
      "Successfully installed gensim-4.3.3 numpy-1.26.4 scipy-1.13.1 smart-open-7.1.0\n",
      "\u001b[33mWARNING: Running pip as the 'root' user can result in broken permissions and conflicting behaviour with the system package manager. It is recommended to use a virtual environment instead: https://pip.pypa.io/warnings/venv\u001b[0m\u001b[33m\n",
      "\u001b[0m\n",
      "\u001b[1m[\u001b[0m\u001b[34;49mnotice\u001b[0m\u001b[1;39;49m]\u001b[0m\u001b[39;49m A new release of pip is available: \u001b[0m\u001b[31;49m23.0.1\u001b[0m\u001b[39;49m -> \u001b[0m\u001b[32;49m25.0.1\u001b[0m\n",
      "\u001b[1m[\u001b[0m\u001b[34;49mnotice\u001b[0m\u001b[1;39;49m]\u001b[0m\u001b[39;49m To update, run: \u001b[0m\u001b[32;49mpip install --upgrade pip\u001b[0m\n"
     ]
    }
   ],
   "source": [
    "!pip install pandarallel==1.6.5\n",
    "!pip install gensim"
   ]
  },
  {
   "cell_type": "code",
   "execution_count": null,
   "metadata": {
    "execution": {
     "iopub.execute_input": "2025-02-10T03:06:29.196085Z",
     "iopub.status.busy": "2025-02-10T03:06:29.195826Z",
     "iopub.status.idle": "2025-02-10T03:06:30.179804Z",
     "shell.execute_reply": "2025-02-10T03:06:30.178444Z",
     "shell.execute_reply.started": "2025-02-10T03:06:29.196055Z"
    },
    "trusted": true
   },
   "outputs": [],
   "source": [
    "import json\n",
    "import regex as re\n",
    "import tqdm.auto as tqdm\n",
    "import pandas as pd\n",
    "import string\n",
    "import numpy as np\n",
    "from glob import glob\n",
    "import re\n",
    "import string\n",
    "\n",
    "from gensim.corpora import Dictionary\n",
    "from gensim.models import TfidfModel, OkapiBM25Model\n",
    "from gensim.similarities import SparseMatrixSimilarity\n",
    "from nltk.tokenize import word_tokenize\n",
    "from nltk import word_tokenize as lib_tokenizer"
   ]
  },
  {
   "cell_type": "code",
   "execution_count": null,
   "metadata": {
    "execution": {
     "iopub.status.busy": "2025-02-10T03:06:30.180670Z",
     "iopub.status.idle": "2025-02-10T03:06:30.181267Z",
     "shell.execute_reply": "2025-02-10T03:06:30.180986Z",
     "shell.execute_reply.started": "2025-02-10T03:06:30.180939Z"
    },
    "trusted": true
   },
   "outputs": [],
   "source": [
    "wiki_20220301 = pd.read_parquet(\"/kaggle/input/wiki-20220301/wikipedia_20220301.parquet\")\n",
    "wiki_20220301.head(3)"
   ]
  },
  {
   "cell_type": "code",
   "execution_count": null,
   "metadata": {
    "execution": {
     "iopub.status.busy": "2025-02-10T03:06:30.182151Z",
     "iopub.status.idle": "2025-02-10T03:06:30.182745Z",
     "shell.execute_reply": "2025-02-10T03:06:30.182343Z",
     "shell.execute_reply.started": "2025-02-10T03:06:30.182301Z"
    },
    "trusted": true
   },
   "outputs": [],
   "source": [
    "wiki_20220301 = wiki_20220301.fillna(\"NaN\")"
   ]
  },
  {
   "cell_type": "code",
   "execution_count": null,
   "metadata": {
    "execution": {
     "iopub.status.busy": "2025-02-10T03:06:30.183697Z",
     "iopub.status.idle": "2025-02-10T03:06:30.184331Z",
     "shell.execute_reply": "2025-02-10T03:06:30.184051Z",
     "shell.execute_reply.started": "2025-02-10T03:06:30.184001Z"
    },
    "trusted": true
   },
   "outputs": [],
   "source": [
    "dict_map = dict({})\n",
    "\n",
    "def word_tokenize1(text):\n",
    "    global dict_map\n",
    "    words = text.split()\n",
    "    words_norm = []\n",
    "    for w in words:\n",
    "        if dict_map.get(w, None) is None:\n",
    "            dict_map[w] = ' '.join(lib_tokenizer(w)).replace(\"``\", '\"').replace(\"''\", '\"')\n",
    "        words_norm.append(dict_map[w])\n",
    "    return words_norm\n",
    "\n",
    "\n",
    "def strip_answer_string(text):\n",
    "    text = text.strip()\n",
    "    while text[-1] in '.,/><;:\\'\"[]{}+=-_)(*&^!~`':\n",
    "        if text[0] != '(' and text[-1] == ')' and '(' in text:\n",
    "            break\n",
    "        if text[-1] == '\"' and text[0] != '\"' and text.count('\"') > 1:\n",
    "            break\n",
    "        text = text[:-1].strip()\n",
    "    while text[0] in '.,/><;:\\'\"[]{}+=-_)(*&^!~`':\n",
    "        if text[0] == '\"' and text[-1] != '\"' and text.count('\"') > 1:\n",
    "            break\n",
    "        text = text[1:].strip()\n",
    "    text = text.strip()\n",
    "    return text\n",
    "\n",
    "def strip_context(text):\n",
    "    text = text.replace('\\n', ' ')\n",
    "    text = re.sub(r'\\s+', ' ', text)\n",
    "    text = text.strip()\n",
    "    return text\n",
    "\n",
    "def post_process(x):\n",
    "    x = \" \".join(word_tokenize1(strip_context(x))).strip()\n",
    "    x = x.replace(\"\\n\", \" \")\n",
    "    x = \"\".join([i for i in x if i not in string.punctuation])\n",
    "    return x"
   ]
  },
  {
   "cell_type": "code",
   "execution_count": null,
   "metadata": {
    "execution": {
     "iopub.status.busy": "2025-02-10T03:06:30.185175Z",
     "iopub.status.idle": "2025-02-10T03:06:30.185676Z",
     "shell.execute_reply": "2025-02-10T03:06:30.185340Z",
     "shell.execute_reply.started": "2025-02-10T03:06:30.185304Z"
    },
    "trusted": true
   },
   "outputs": [],
   "source": [
    "from pandarallel import pandarallel\n",
    "pandarallel.initialize(progress_bar=True, use_memory_fs=False, nb_workers=10)"
   ]
  },
  {
   "cell_type": "code",
   "execution_count": null,
   "metadata": {
    "execution": {
     "iopub.status.busy": "2025-02-10T03:06:30.186152Z",
     "iopub.status.idle": "2025-02-10T03:06:30.186668Z",
     "shell.execute_reply": "2025-02-10T03:06:30.186410Z",
     "shell.execute_reply.started": "2025-02-10T03:06:30.186372Z"
    },
    "trusted": true
   },
   "outputs": [],
   "source": [
    "wiki_20220301_parts = np.array_split(wiki_20220301, 3)"
   ]
  },
  {
   "cell_type": "code",
   "execution_count": null,
   "metadata": {
    "execution": {
     "iopub.status.busy": "2025-02-10T03:06:30.187142Z",
     "iopub.status.idle": "2025-02-10T03:06:30.187686Z",
     "shell.execute_reply": "2025-02-10T03:06:30.187308Z",
     "shell.execute_reply.started": "2025-02-10T03:06:30.187270Z"
    },
    "trusted": true
   },
   "outputs": [],
   "source": [
    " wiki_20220301_parts[0]['text'] = wiki_20220301_parts[0]['text'].apply(lambda x: x.lower()).parallel_apply(post_process)\n"
   ]
  },
  {
   "cell_type": "code",
   "execution_count": null,
   "metadata": {
    "execution": {
     "iopub.status.busy": "2025-02-10T03:06:30.188161Z",
     "iopub.status.idle": "2025-02-10T03:06:30.188491Z",
     "shell.execute_reply": "2025-02-10T03:06:30.188318Z",
     "shell.execute_reply.started": "2025-02-10T03:06:30.188283Z"
    },
    "trusted": true
   },
   "outputs": [],
   "source": [
    "wiki_20220301_parts[1]['text'] = wiki_20220301_parts[1]['text'].apply(lambda x: x.lower()).parallel_apply(post_process)"
   ]
  },
  {
   "cell_type": "code",
   "execution_count": null,
   "metadata": {
    "execution": {
     "iopub.status.busy": "2025-02-10T03:06:30.189010Z",
     "iopub.status.idle": "2025-02-10T03:06:30.189532Z",
     "shell.execute_reply": "2025-02-10T03:06:30.189180Z",
     "shell.execute_reply.started": "2025-02-10T03:06:30.189145Z"
    },
    "trusted": true
   },
   "outputs": [],
   "source": [
    "wiki_20220301 = pd.concat(wiki_20220301_parts, ignore_index=True)\n",
    "wiki_20220301.head(3)"
   ]
  },
  {
   "cell_type": "code",
   "execution_count": null,
   "metadata": {
    "execution": {
     "execution_failed": "2025-02-09T10:16:35.449Z",
     "iopub.execute_input": "2025-02-09T09:23:55.298047Z",
     "iopub.status.busy": "2025-02-09T09:23:55.297758Z"
    },
    "trusted": true
   },
   "outputs": [],
   "source": [
    "corpus = [x.split() for x in wiki_20220301['text'].values]\n",
    "\n",
    "dictionary = Dictionary(corpus)\n",
    "bm25_model = OkapiBM25Model(dictionary=dictionary)\n",
    "bm25_corpus = bm25_model[list(map(dictionary.doc2bow, corpus))]\n",
    "bm25_index = SparseMatrixSimilarity(bm25_corpus, nums_docs=len(corpus), num_terms=len(dictionary), normalize_queries=False, normalize_documents=False)\n",
    "tfidf_model = TfidfModel(dictionary=dictionary, smartins='bnn')"
   ]
  },
  {
   "cell_type": "code",
   "execution_count": null,
   "metadata": {
    "trusted": true
   },
   "outputs": [],
   "source": [
    "from gensim.corpora import Dictionary\n",
    "from gensim.models import TfidfModel\n",
    "from gensim.similarities import SparseMatrixSimilarity\n",
    "from gensim.models.okapi_bm25 import OkapiBM25Model\n",
    "import pandas as pd\n",
    "\n",
    "# Đọc dữ liệu theo batch\n",
    "def get_corpus_iter(df, batch_size=10000):\n",
    "    for i in range(0, len(df), batch_size):\n",
    "        yield [x.split() for x in df['text'].iloc[i:i+batch_size].values]\n",
    "\n",
    "# Tạo từ điển từ corpus theo batch\n",
    "dictionary = Dictionary()\n",
    "for batch in get_corpus_iter(wiki_20220301):\n",
    "    dictionary.add_documents(batch)\n",
    "\n",
    "# Tạo BM25 Model với corpus stream\n",
    "bm25_model = OkapiBM25Model(dictionary=dictionary)\n",
    "\n",
    "# Ánh xạ corpus thành dạng bow theo batch\n",
    "def bow_generator():\n",
    "    for batch in get_corpus_iter(wiki_20220301):\n",
    "        yield list(map(dictionary.doc2bow, batch))\n",
    "\n",
    "bm25_corpus = bm25_model[bow_generator()]\n",
    "\n",
    "# Tạo BM25 index\n",
    "bm25_index = SparseMatrixSimilarity(\n",
    "    bm25_corpus, num_docs=len(wiki_20220301), num_terms=len(dictionary),\n",
    "    normalize_queries=False, normalize_documents=False\n",
    ")\n",
    "\n",
    "# Tạo TF-IDF Model trên streaming corpus\n",
    "tfidf_model = TfidfModel(dictionary=dictionary, smartirs='bnn')\n"
   ]
  },
  {
   "cell_type": "code",
   "execution_count": null,
   "metadata": {
    "execution": {
     "execution_failed": "2025-02-09T10:16:35.449Z"
    },
    "trusted": true
   },
   "outputs": [],
   "source": [
    "dictionary.save(\"./kaggle/working/bm25/outputs/dict\")\n",
    "tfidf_model.save(\"./kaggle/working/bm25/outputs/tfidf\")\n",
    "bm25_index.save(\"./kaggle/working/bm25/outputs/bm25_index\")"
   ]
  }
 ],
 "metadata": {
  "kaggle": {
   "accelerator": "tpu1vmV38",
   "dataSources": [
    {
     "datasetId": 6630926,
     "sourceId": 10700209,
     "sourceType": "datasetVersion"
    }
   ],
   "dockerImageVersionId": 30888,
   "isGpuEnabled": false,
   "isInternetEnabled": true,
   "language": "python",
   "sourceType": "notebook"
  },
  "kernelspec": {
   "display_name": "Python 3",
   "language": "python",
   "name": "python3"
  },
  "language_info": {
   "codemirror_mode": {
    "name": "ipython",
    "version": 3
   },
   "file_extension": ".py",
   "mimetype": "text/x-python",
   "name": "python",
   "nbconvert_exporter": "python",
   "pygments_lexer": "ipython3",
   "version": "3.10.16"
  }
 },
 "nbformat": 4,
 "nbformat_minor": 4
}
